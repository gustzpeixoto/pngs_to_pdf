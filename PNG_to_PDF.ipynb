{
  "nbformat": 4,
  "nbformat_minor": 0,
  "metadata": {
    "colab": {
      "provenance": [],
      "authorship_tag": "ABX9TyOdvJqZt34lUFyYWnMItyv0",
      "include_colab_link": true
    },
    "kernelspec": {
      "name": "python3",
      "display_name": "Python 3"
    },
    "language_info": {
      "name": "python"
    }
  },
  "cells": [
    {
      "cell_type": "markdown",
      "metadata": {
        "id": "view-in-github",
        "colab_type": "text"
      },
      "source": [
        "<a href=\"https://colab.research.google.com/github/gustzpeixoto/pngs_to_pdf/blob/main/PNG_to_PDF.ipynb\" target=\"_parent\"><img src=\"https://colab.research.google.com/assets/colab-badge.svg\" alt=\"Open In Colab\"/></a>"
      ]
    },
    {
      "cell_type": "code",
      "execution_count": 1,
      "metadata": {
        "colab": {
          "base_uri": "https://localhost:8080/"
        },
        "id": "_wu8HjnL_pYz",
        "outputId": "cf8c6cb8-0869-407d-bc4c-62ac32bbb193"
      },
      "outputs": [
        {
          "output_type": "stream",
          "name": "stdout",
          "text": [
            "Requirement already satisfied: Pillow in /usr/local/lib/python3.10/dist-packages (9.4.0)\n",
            "Collecting reportlab\n",
            "  Downloading reportlab-4.2.0-py3-none-any.whl (1.9 MB)\n",
            "\u001b[2K     \u001b[90m━━━━━━━━━━━━━━━━━━━━━━━━━━━━━━━━━━━━━━━━\u001b[0m \u001b[32m1.9/1.9 MB\u001b[0m \u001b[31m12.8 MB/s\u001b[0m eta \u001b[36m0:00:00\u001b[0m\n",
            "\u001b[?25hRequirement already satisfied: chardet in /usr/local/lib/python3.10/dist-packages (from reportlab) (5.2.0)\n",
            "Installing collected packages: reportlab\n",
            "Successfully installed reportlab-4.2.0\n"
          ]
        }
      ],
      "source": [
        "!pip install Pillow reportlab"
      ]
    },
    {
      "cell_type": "code",
      "source": [
        "from PIL import Image\n",
        "from reportlab.pdfgen import canvas\n",
        "\n",
        "def pngs_to_pdf(png_files, output_pdf):\n",
        "    c = canvas.Canvas(output_pdf)\n",
        "    for png_file in png_files:\n",
        "        img = Image.open(png_file)\n",
        "        c.setPageSize((img.width, img.height))\n",
        "        c.drawInlineImage(png_file, 0, 0)\n",
        "        c.showPage()\n",
        "    c.save()\n",
        "\n",
        "# Substitua os nomes dos arquivos PNG pelos nomes dos arquivos que você fez upload\n",
        "png_files = ['file_01.png', 'file_02.png', 'file_03.png']\n",
        "output_pdf = 'NomeDoArquivo.pdf'\n",
        "pngs_to_pdf(png_files, output_pdf)\n"
      ],
      "metadata": {
        "id": "1zHfoOivxu4J"
      },
      "execution_count": null,
      "outputs": []
    },
    {
      "cell_type": "code",
      "source": [],
      "metadata": {
        "id": "HnzN3Ts4yiix"
      },
      "execution_count": null,
      "outputs": []
    }
  ]
}